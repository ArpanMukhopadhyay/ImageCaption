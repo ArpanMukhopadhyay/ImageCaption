{
 "cells": [
  {
   "cell_type": "code",
   "execution_count": 1,
   "metadata": {},
   "outputs": [
    {
     "name": "stderr",
     "output_type": "stream",
     "text": [
      "/home/arpydarpy/miniconda3/envs/newenv/lib/python3.13/site-packages/tqdm/auto.py:21: TqdmWarning: IProgress not found. Please update jupyter and ipywidgets. See https://ipywidgets.readthedocs.io/en/stable/user_install.html\n",
      "  from .autonotebook import tqdm as notebook_tqdm\n"
     ]
    }
   ],
   "source": [
    "import torch\n",
    "import torch.nn as nn\n",
    "import numpy as np\n",
    "import pandas as pd\n",
    "import matplotlib.pyplot as plt\n",
    "\n",
    "import albumentations as alb\n",
    "from albumentations.pytorch import ToTensorV2\n",
    "import timm\n",
    "import cv2\n",
    "from torch.utils.data import DataLoader\n",
    "from torch.utils.data import Dataset\n",
    "from collections import Counter\n"
   ]
  },
  {
   "cell_type": "code",
   "execution_count": 2,
   "metadata": {},
   "outputs": [
    {
     "name": "stdout",
     "output_type": "stream",
     "text": [
      "0.21.0+cu118\n"
     ]
    }
   ],
   "source": [
    "import torchvision\n",
    "print(torchvision.__version__)"
   ]
  },
  {
   "cell_type": "code",
   "execution_count": 3,
   "metadata": {},
   "outputs": [
    {
     "data": {
      "text/plain": [
       "device(type='cuda')"
      ]
     },
     "execution_count": 3,
     "metadata": {},
     "output_type": "execute_result"
    }
   ],
   "source": [
    "device = torch.device('cuda' if torch.cuda.is_available() else 'cpu')\n",
    "device"
   ]
  },
  {
   "cell_type": "code",
   "execution_count": null,
   "metadata": {},
   "outputs": [],
   "source": [
    "import transformers \n",
    "from transformers import AutoTokenizer\n",
    "\n",
    "class ImageCaptioner(nn.Module):\n",
    "    def __init__(self, context_length, vocab_size, num_blocks, model_dim, num_heads, dropout_prob):\n",
    "        super().__init__()\n",
    "        self.cnn_encoder = timm.create_model('efficientnet_b0', pretrained=True)\n",
    "        test_image = torch.zeros(1,3,224,224)\n",
    "\n",
    "        with torch.no_grad():\n",
    "            cnn_output = self.cnn_encoder(test_image)\n",
    "        in_features = cnn_output.shape[1]    \n",
    "        self.project = nn.Linear(in_features, model_dim)\n",
    "\n",
    "        self.word_embeddings = nn.Embedding(vocab_size, model_dim)\n",
    "        self.pos_embeddings = nn.Embedding(context_length, model_dim)\n",
    "\n",
    "        block = nn.TransformerDecoderLayer(model_dim, num_heads, 2*model_dim, dropout=dropout_prob, batch_first=True, norm_first =True)\n",
    "        self.blocks = nn.TransformerDecoder(block, num_blocks)\n",
    "\n",
    "        self.vocab_projection = nn.Linear(model_dim, vocab_size)\n",
    "\n",
    "        \n",
    "    def forward(self, images, true_labels):\n",
    "        tok_embedded = self.word_embeddings(true_labels)\n",
    "        B,T = true_labels.shape\n",
    "        positions = torch.arange(T).to(device)\n",
    "        pos_embedded = self.pos_embeddings(positions)\n",
    "        total_emebddings = tok_embedded + pos_embedded #input to blocks\n",
    "        \n",
    "        with torch.no_grad():\n",
    "            encoded_image = self.project(self.cnn_encoder(images).view(B,-1))\n",
    "        \n",
    "        img_for_attention = torch.unsqueeze(encoded_image, 1)\n",
    "\n",
    "        #Causal/Subsequent Mask\n",
    "        attention_mask = nn.Transformer.generate_square_subsequent_mask(T).to(device)\n",
    "        block_output = self.blocks(total_emebddings, img_for_attention, tgt_mask=attention_mask)\n",
    "\n",
    "        vocabulary_vector = self.vocab_projection(block_output) #B,T,V\n",
    "\n",
    "        return vocabulary_vector"
   ]
  },
  {
   "cell_type": "code",
   "execution_count": 13,
   "metadata": {},
   "outputs": [],
   "source": [
    "caption_filename = 'Flickr8k/captions.txt'\n",
    "missing = '2258277193_586949ec62'\n",
    "\n",
    "with open(caption_filename) as captions:\n",
    "    lines = captions.readlines()\n",
    "\n",
    "get_captions = {}\n",
    "all_captions = []\n",
    "\n",
    "for i in range(1,len(lines)):\n",
    "    data = lines[i].rstrip('\\n').split('.jpg,')\n",
    "    img_name = data[0] + '.jpg'\n",
    "    if img_name == missing:\n",
    "        continue\n",
    "\n",
    "    caption_list = get_captions.get(img_name, [])\n",
    "    caption_list.append(data[1])\n",
    "    get_captions[img_name] = caption_list\n",
    "    all_captions.append(data[1])"
   ]
  },
  {
   "cell_type": "code",
   "execution_count": 14,
   "metadata": {},
   "outputs": [
    {
     "name": "stdout",
     "output_type": "stream",
     "text": [
      "40455\n"
     ]
    }
   ],
   "source": [
    "print(len(all_captions))"
   ]
  },
  {
   "cell_type": "code",
   "execution_count": 15,
   "metadata": {},
   "outputs": [],
   "source": [
    "import transformers \n",
    "from transformers import AutoTokenizer"
   ]
  },
  {
   "cell_type": "code",
   "execution_count": null,
   "metadata": {},
   "outputs": [
    {
     "data": {
      "text/plain": [
       "4"
      ]
     },
     "execution_count": 16,
     "metadata": {},
     "output_type": "execute_result"
    }
   ],
   "source": [
    "df = pd.DataFrame(columns=['filename', 'caption'])\n",
    "df['filename'] = get_captions.keys()\n",
    "df['caption'] = df['filename'].map(lambda filename: get_captions[filename])\n",
    "\n",
    "# Use a pre-trained tokenizer (you can choose different models)\n",
    "tokenizer = AutoTokenizer.from_pretrained(\"bert-base-uncased\")\n",
    "\n",
    "# Add special tokens if they don't already exist in the tokenizer\n",
    "special_tokens = ['<UNKNOWN>', '<PAD>', '<START>', '<END>']\n",
    "special_tokens_dict = {'additional_special_tokens': special_tokens}\n",
    "tokenizer.add_special_tokens(special_tokens_dict)"
   ]
  },
  {
   "cell_type": "code",
   "execution_count": null,
   "metadata": {},
   "outputs": [],
   "source": [
    "context_length = 20\n",
    "\n",
    "class ImageCaptionDataset(Dataset):\n",
    "    def __init__(self, split):\n",
    "        self.df = df\n",
    "        self.img_size = 224\n",
    "        self.tokenizer = tokenizer  # Use the previously defined transformers tokenizer\n",
    "        \n",
    "        transformation_list = [alb.Resize(self.img_size, self.img_size)]\n",
    "        if split == 'training':\n",
    "            transformation_list.append(alb.HorizontalFlip())\n",
    "            transformation_list.append(alb.ColorJitter())\n",
    "        transformation_list.append(alb.Normalize())\n",
    "        transformation_list.append(ToTensorV2())\n",
    "\n",
    "        self.transformations = alb.Compose(transformation_list)\n",
    "        \n",
    "        # Get the token IDs for special tokens\n",
    "        self.start_token_id = tokenizer.convert_tokens_to_ids('<START>')\n",
    "        self.end_token_id = tokenizer.convert_tokens_to_ids('<END>')\n",
    "        self.pad_token_id = tokenizer.convert_tokens_to_ids('<PAD>')\n",
    "\n",
    "    def __len__(self):\n",
    "        return len(self.df)\n",
    "\n",
    "    def __getitem__(self, idx):\n",
    "        image_filename, captions = self.df.iloc[idx]\n",
    "        image = cv2.cvtColor(cv2.imread('Flickr8k/Images/' + image_filename), cv2.COLOR_BGR2RGB)\n",
    "        processed_image = self.transformations(image=image)['image']\n",
    "        encoded_captions = []\n",
    "        \n",
    "        for i, cap in enumerate(captions):\n",
    "            token_ids = self.tokenizer.encode(cap, add_special_tokens=False)\n",
    "            \n",
    "            token_ids = [self.start_token_id] + token_ids + [self.end_token_id]\n",
    "            if len(token_ids) <= context_length:\n",
    "                pads_to_add = context_length - len(token_ids)\n",
    "                token_ids += [self.pad_token_id] * pads_to_add\n",
    "            else:\n",
    "                token_ids = token_ids[:context_length - 1] + [self.end_token_id]\n",
    "            \n",
    "            encoded_captions.append(torch.tensor(token_ids, dtype=torch.long))\n",
    "\n",
    "        random_idx = torch.randint(len(encoded_captions), (1,)).item()\n",
    "        return processed_image, encoded_captions[random_idx]\n"
   ]
  },
  {
   "cell_type": "code",
   "execution_count": 18,
   "metadata": {},
   "outputs": [],
   "source": [
    "training_dataset = ImageCaptionDataset('training')\n",
    "training_data = DataLoader(training_dataset, batch_size=32, shuffle=True)"
   ]
  },
  {
   "cell_type": "code",
   "execution_count": null,
   "metadata": {},
   "outputs": [
    {
     "name": "stdout",
     "output_type": "stream",
     "text": [
      "Epoch 1, Iteration 0, Loss: 12.1261\n"
     ]
    },
    {
     "ename": "KeyboardInterrupt",
     "evalue": "",
     "output_type": "error",
     "traceback": [
      "\u001b[0;31m---------------------------------------------------------------------------\u001b[0m",
      "\u001b[0;31mKeyboardInterrupt\u001b[0m                         Traceback (most recent call last)",
      "Cell \u001b[0;32mIn[19], line 37\u001b[0m\n\u001b[1;32m     35\u001b[0m \u001b[38;5;66;03m# Backpropagation\u001b[39;00m\n\u001b[1;32m     36\u001b[0m optim\u001b[38;5;241m.\u001b[39mzero_grad()\n\u001b[0;32m---> 37\u001b[0m \u001b[43mloss\u001b[49m\u001b[38;5;241;43m.\u001b[39;49m\u001b[43mbackward\u001b[49m\u001b[43m(\u001b[49m\u001b[43m)\u001b[49m\n\u001b[1;32m     39\u001b[0m \u001b[38;5;66;03m# Gradient clipping\u001b[39;00m\n\u001b[1;32m     40\u001b[0m nn\u001b[38;5;241m.\u001b[39mutils\u001b[38;5;241m.\u001b[39mclip_grad_norm_(model\u001b[38;5;241m.\u001b[39mparameters(), \u001b[38;5;241m2.0\u001b[39m)\n",
      "File \u001b[0;32m~/miniconda3/envs/newenv/lib/python3.13/site-packages/torch/_tensor.py:626\u001b[0m, in \u001b[0;36mTensor.backward\u001b[0;34m(self, gradient, retain_graph, create_graph, inputs)\u001b[0m\n\u001b[1;32m    616\u001b[0m \u001b[38;5;28;01mif\u001b[39;00m has_torch_function_unary(\u001b[38;5;28mself\u001b[39m):\n\u001b[1;32m    617\u001b[0m     \u001b[38;5;28;01mreturn\u001b[39;00m handle_torch_function(\n\u001b[1;32m    618\u001b[0m         Tensor\u001b[38;5;241m.\u001b[39mbackward,\n\u001b[1;32m    619\u001b[0m         (\u001b[38;5;28mself\u001b[39m,),\n\u001b[0;32m   (...)\u001b[0m\n\u001b[1;32m    624\u001b[0m         inputs\u001b[38;5;241m=\u001b[39minputs,\n\u001b[1;32m    625\u001b[0m     )\n\u001b[0;32m--> 626\u001b[0m \u001b[43mtorch\u001b[49m\u001b[38;5;241;43m.\u001b[39;49m\u001b[43mautograd\u001b[49m\u001b[38;5;241;43m.\u001b[39;49m\u001b[43mbackward\u001b[49m\u001b[43m(\u001b[49m\n\u001b[1;32m    627\u001b[0m \u001b[43m    \u001b[49m\u001b[38;5;28;43mself\u001b[39;49m\u001b[43m,\u001b[49m\u001b[43m \u001b[49m\u001b[43mgradient\u001b[49m\u001b[43m,\u001b[49m\u001b[43m \u001b[49m\u001b[43mretain_graph\u001b[49m\u001b[43m,\u001b[49m\u001b[43m \u001b[49m\u001b[43mcreate_graph\u001b[49m\u001b[43m,\u001b[49m\u001b[43m \u001b[49m\u001b[43minputs\u001b[49m\u001b[38;5;241;43m=\u001b[39;49m\u001b[43minputs\u001b[49m\n\u001b[1;32m    628\u001b[0m \u001b[43m\u001b[49m\u001b[43m)\u001b[49m\n",
      "File \u001b[0;32m~/miniconda3/envs/newenv/lib/python3.13/site-packages/torch/autograd/__init__.py:347\u001b[0m, in \u001b[0;36mbackward\u001b[0;34m(tensors, grad_tensors, retain_graph, create_graph, grad_variables, inputs)\u001b[0m\n\u001b[1;32m    342\u001b[0m     retain_graph \u001b[38;5;241m=\u001b[39m create_graph\n\u001b[1;32m    344\u001b[0m \u001b[38;5;66;03m# The reason we repeat the same comment below is that\u001b[39;00m\n\u001b[1;32m    345\u001b[0m \u001b[38;5;66;03m# some Python versions print out the first line of a multi-line function\u001b[39;00m\n\u001b[1;32m    346\u001b[0m \u001b[38;5;66;03m# calls in the traceback and some print out the last line\u001b[39;00m\n\u001b[0;32m--> 347\u001b[0m \u001b[43m_engine_run_backward\u001b[49m\u001b[43m(\u001b[49m\n\u001b[1;32m    348\u001b[0m \u001b[43m    \u001b[49m\u001b[43mtensors\u001b[49m\u001b[43m,\u001b[49m\n\u001b[1;32m    349\u001b[0m \u001b[43m    \u001b[49m\u001b[43mgrad_tensors_\u001b[49m\u001b[43m,\u001b[49m\n\u001b[1;32m    350\u001b[0m \u001b[43m    \u001b[49m\u001b[43mretain_graph\u001b[49m\u001b[43m,\u001b[49m\n\u001b[1;32m    351\u001b[0m \u001b[43m    \u001b[49m\u001b[43mcreate_graph\u001b[49m\u001b[43m,\u001b[49m\n\u001b[1;32m    352\u001b[0m \u001b[43m    \u001b[49m\u001b[43minputs\u001b[49m\u001b[43m,\u001b[49m\n\u001b[1;32m    353\u001b[0m \u001b[43m    \u001b[49m\u001b[43mallow_unreachable\u001b[49m\u001b[38;5;241;43m=\u001b[39;49m\u001b[38;5;28;43;01mTrue\u001b[39;49;00m\u001b[43m,\u001b[49m\n\u001b[1;32m    354\u001b[0m \u001b[43m    \u001b[49m\u001b[43maccumulate_grad\u001b[49m\u001b[38;5;241;43m=\u001b[39;49m\u001b[38;5;28;43;01mTrue\u001b[39;49;00m\u001b[43m,\u001b[49m\n\u001b[1;32m    355\u001b[0m \u001b[43m\u001b[49m\u001b[43m)\u001b[49m\n",
      "File \u001b[0;32m~/miniconda3/envs/newenv/lib/python3.13/site-packages/torch/autograd/graph.py:823\u001b[0m, in \u001b[0;36m_engine_run_backward\u001b[0;34m(t_outputs, *args, **kwargs)\u001b[0m\n\u001b[1;32m    821\u001b[0m     unregister_hooks \u001b[38;5;241m=\u001b[39m _register_logging_hooks_on_whole_graph(t_outputs)\n\u001b[1;32m    822\u001b[0m \u001b[38;5;28;01mtry\u001b[39;00m:\n\u001b[0;32m--> 823\u001b[0m     \u001b[38;5;28;01mreturn\u001b[39;00m \u001b[43mVariable\u001b[49m\u001b[38;5;241;43m.\u001b[39;49m\u001b[43m_execution_engine\u001b[49m\u001b[38;5;241;43m.\u001b[39;49m\u001b[43mrun_backward\u001b[49m\u001b[43m(\u001b[49m\u001b[43m  \u001b[49m\u001b[38;5;66;43;03m# Calls into the C++ engine to run the backward pass\u001b[39;49;00m\n\u001b[1;32m    824\u001b[0m \u001b[43m        \u001b[49m\u001b[43mt_outputs\u001b[49m\u001b[43m,\u001b[49m\u001b[43m \u001b[49m\u001b[38;5;241;43m*\u001b[39;49m\u001b[43margs\u001b[49m\u001b[43m,\u001b[49m\u001b[43m \u001b[49m\u001b[38;5;241;43m*\u001b[39;49m\u001b[38;5;241;43m*\u001b[39;49m\u001b[43mkwargs\u001b[49m\n\u001b[1;32m    825\u001b[0m \u001b[43m    \u001b[49m\u001b[43m)\u001b[49m  \u001b[38;5;66;03m# Calls into the C++ engine to run the backward pass\u001b[39;00m\n\u001b[1;32m    826\u001b[0m \u001b[38;5;28;01mfinally\u001b[39;00m:\n\u001b[1;32m    827\u001b[0m     \u001b[38;5;28;01mif\u001b[39;00m attach_logging_hooks:\n",
      "\u001b[0;31mKeyboardInterrupt\u001b[0m: "
     ]
    }
   ],
   "source": [
    "\n",
    "vocab_size = len(tokenizer)\n",
    "num_blocks = 6\n",
    "model_dim = 512\n",
    "num_heads = 16  # head_size = model_dim // num_heads\n",
    "dropout = 0.5\n",
    "\n",
    "model = ImageCaptioner(context_length, vocab_size, num_blocks, model_dim, num_heads, dropout).to(device)\n",
    "\n",
    "for layer in model.cnn_encoder.parameters():\n",
    "    layer.requires_grad = False\n",
    "\n",
    "pad_token_idx = tokenizer.convert_tokens_to_ids('<PAD>')\n",
    "\n",
    "loss_fn = nn.CrossEntropyLoss(ignore_index=pad_token_idx)\n",
    "optim = torch.optim.AdamW(model.parameters(), lr=1e-5)\n",
    "\n",
    "epochs = 1\n",
    "num_iterations = 0\n",
    "\n",
    "def integer_to_word(idx):\n",
    "    return tokenizer.convert_ids_to_tokens(int(idx.item()))\n",
    "\n",
    "for epoch in range(epochs):\n",
    "    for images, captions in training_data:\n",
    "        images, captions = images.to(device), captions.to(device)\n",
    "        model_prediction = model(images, captions)\n",
    "        # _,idx = torch.max(model_prediction, dim= -1)\n",
    "        # first_caption = idx[0]\n",
    "        # sentence = []\n",
    "        # for id in first_caption:\n",
    "        #     sentence.append(integer_to_word(id))\n",
    "        #     if id == tokenizer.convert_tokens_to_ids('<END>'):\n",
    "        #         break\n",
    "        \n",
    "        # print(' '.join(sentence))\n",
    "\n",
    "        B, T= captions.shape\n",
    "        model_prediction = model_prediction.view(B*T, vocab_size)\n",
    "        \n",
    "        loss = loss_fn(model_prediction, captions.view(B*T))\n",
    "        optim.zero_grad()\n",
    "        loss.backward()\n",
    "        nn.utils.clip_grad_norm_(model.parameters(), 2.0)\n",
    "        optim.step()\n",
    "        if num_iterations % 100 == 0:\n",
    "            print(f\"Epoch {epoch+1}, Iteration {num_iterations}, Loss: {loss.item():.4f}\")\n",
    "        \n",
    "        num_iterations += 1\n"
   ]
  },
  {
   "cell_type": "code",
   "execution_count": null,
   "metadata": {},
   "outputs": [],
   "source": []
  }
 ],
 "metadata": {
  "kernelspec": {
   "display_name": "newenv",
   "language": "python",
   "name": "python3"
  },
  "language_info": {
   "codemirror_mode": {
    "name": "ipython",
    "version": 3
   },
   "file_extension": ".py",
   "mimetype": "text/x-python",
   "name": "python",
   "nbconvert_exporter": "python",
   "pygments_lexer": "ipython3",
   "version": "3.13.2"
  }
 },
 "nbformat": 4,
 "nbformat_minor": 2
}
